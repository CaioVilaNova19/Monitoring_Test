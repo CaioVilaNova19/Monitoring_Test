{
 "cells": [
  {
   "cell_type": "markdown",
   "id": "86225b54-8102-43c9-8749-c6fc429b54dc",
   "metadata": {},
   "source": [
    "# Transaction Anomaly Monitoring System\n",
    "\n",
    "This notebook serves as a practical guide to setting up, running, and understanding the transaction anomaly monitoring system. It demonstrates the integration of a Flask API for real-time processing, an SQLite database for persistence, and an interactive dashboard for visualizing metrics and alerts.\n",
    "\n",
    "The main objective is to detect transactional behaviors that deviate from the norm (such as an abnormally high number of denied, failed, or reversed transactions) and notify responsible teams, in addition to providing continuous overview on the dashboard."
   ]
  },
  {
   "cell_type": "markdown",
   "id": "bf1b00ba-717d-450d-ad06-707416d6087f",
   "metadata": {},
   "source": [
    "# Step 0: Initialize the Database\n",
    "\n",
    "Before starting the system, it is crucial to ensure that the database is correctly set up. The `initialize_database.py` script is responsible for creating the `transactions.db` file and the `transactions` table structure where all transaction information will be stored. It ensures that the environment is ready to receive data.\n",
    "\n",
    "Execute the cell below to initialize the database:"
   ]
  },
  {
   "cell_type": "code",
   "execution_count": null,
   "id": "5276be00-3d8a-483a-af15-9575b6008173",
   "metadata": {},
   "outputs": [],
   "source": [
    "%run -m initialize_database"
   ]
  },
  {
   "cell_type": "markdown",
   "id": "87288d9d-aebf-4a98-ac53-4d40cccd2b45",
   "metadata": {},
   "source": [
    "# Step 1: Start the API Endpoint\n",
    "\n",
    "The `transactions_endpoint.py` is the heart of our system. It acts as a REST API that receives transactions, stores them in the database, performs real-time anomaly detection, and, if necessary, triggers configured alerts. It also serves data to the dashboard and the `dashboard.html` file itself.\n",
    "\n",
    "**Important:** This script must be run in a **separate terminal** from the Jupyter Notebook, as it starts a Flask web server that will run continuously.\n",
    "\n",
    "Open a new terminal (or command prompt) in your project's root directory and execute the following command:\n",
    "\n",
    "```bash\n",
    "python src/transactions_endpoint.py\n"
   ]
  },
  {
   "cell_type": "markdown",
   "id": "75d2c4a7-d602-4a54-84eb-c739ce730962",
   "metadata": {},
   "source": [
    "Upon successful execution, you will see a message indicating that the Flask server is running, usually at http://127.0.0.1:5000/."
   ]
  },
  {
   "cell_type": "markdown",
   "id": "577a775a-b25d-4494-8a60-67f5d35c21b0",
   "metadata": {},
   "source": [
    "# Step 2: Generate Test Data\n",
    "\n",
    "To simulate the transaction flow and test the monitoring system, we use the `generate_test_data.py` script. It sends POST requests with transaction data (timestamp, status, count) to the API endpoint (`/receive_transaction`) at regular intervals.\n",
    "\n",
    "This script is also configured to **inject controlled anomalies** (such as spikes in `denied` or `failed` transactions) so that we can observe the system's detection and alerting behavior.\n",
    "\n",
    "Note: You may want to check the section **Checking Alerts** in order to configurate the recieving of the alert on your Telegram!\n",
    "\n",
    "Execute the cell below to start the data simulation:"
   ]
  },
  {
   "cell_type": "code",
   "execution_count": null,
   "id": "485098e4-8ba2-4b01-9005-a3b3167e71fd",
   "metadata": {},
   "outputs": [],
   "source": [
    "%run -m generate_test_data"
   ]
  },
  {
   "cell_type": "markdown",
   "id": "a7eb4c55-bb66-4b83-995f-0e0b2888315c",
   "metadata": {},
   "source": [
    "# Step 3: Access the Monitoring Dashboard\n",
    "\n",
    "With the API endpoint running and test data being generated, you can now access the real-time monitoring dashboard. This dashboard visualizes aggregated metrics and lists recent transactions, highlighting any high-risk anomalies.\n",
    "\n",
    "Open your browser and navigate to the following URL:\n",
    "\n",
    "[http://127.0.0.1:5000/](http://127.0.0.1:5000/)\n",
    "\n",
    "Observe the charts showing the average and upper limits of transactions per hour, the overall distribution by status, and the list of recent transactions, where \"high\" severity anomalies are visually highlighted."
   ]
  },
  {
   "cell_type": "markdown",
   "id": "247f1752-3376-4ff8-b3a2-dcf78128c9f2",
   "metadata": {},
   "source": [
    "# Checking Alerts\n",
    "\n",
    "For transactions classified with severity: `\"high\"` at the endpoint, the system is configured to trigger alerts via **Telegram** and **Email**.\n",
    "\n",
    "---\n",
    "\n",
    "## 📲 Telegram\n",
    "\n",
    "A dedicated bot is available for testing purposes. Its token is already provided within the `telegram_alert.py` script.  \n",
    "To receive alerts from this bot, you will need to initiate a conversation with it first:\n",
    "\n",
    "1. **Find the bot in Telegram**  \n",
    "   Search for the bot using its username (e.g., `@your_test_bot_name`, which should correspond to the token in `telegram_alert.py`).\n",
    "\n",
    "2. **Start a chat**  \n",
    "   Once you find the bot, open a chat window with it.\n",
    "\n",
    "3. **Send any message**  \n",
    "   Send a simple message like `\"Hi\"` or `\"/start\"` to the bot.  \n",
    "   *This action is crucial as it makes your specific chat ID known to the bot, allowing it to send messages to you.*\n",
    "\n",
    "4. **Find your Telegram Chat ID**  \n",
    "   To configure the bot to send alerts specifically to you, you need your unique Chat ID.  \n",
    "   The simplest way to find it is by using a dedicated bot:\n",
    "\n",
    "   - Search for `@RawDataBot` or `@getidsbot` in your Telegram app's search bar.\n",
    "   - Start a chat with one of these bots.\n",
    "   - Send a message (e.g., `\"Hi\"`) to the bot.\n",
    "   - The bot will respond with a JSON message containing various details about your chat.  \n",
    "     Look for the `id` field within the `chat` object; this number is your personal Chat ID:\n",
    "\n",
    "     ```json\n",
    "     {\n",
    "         \"chat\": {\n",
    "             \"id\": 123456789,\n",
    "             ...\n",
    "         }\n",
    "     }\n",
    "     ```\n",
    "\n",
    "   - Copy this ID.\n",
    "\n",
    "5. **Configure your Chat ID**  \n",
    "   Once you have your Chat ID, you can set it in the `telegram_alert.py` script.\n",
    "\n",
    "---\n",
    "\n",
    "## Email\n",
    "\n",
    "The `email_alert.py` script is currently a demonstrative example and is **not configured for immediate use**.  \n",
    "To receive email alerts, you will need to:\n",
    "\n",
    "1. **Configure SMTP server details**  \n",
    "   Update the script with your email provider's SMTP server, port, and security settings.\n",
    "\n",
    "2. **Provide sender credentials**  \n",
    "   Input the sender's email address and password (or an app-specific password if your provider requires it).\n",
    "\n",
    "3. **Specify receiver email addresses**  \n",
    "   Add the email addresses where you wish to receive alerts."
   ]
  },
  {
   "cell_type": "code",
   "execution_count": null,
   "id": "2c791466-859d-4902-abba-0c8ec75f95fb",
   "metadata": {},
   "outputs": [],
   "source": []
  }
 ],
 "metadata": {
  "kernelspec": {
   "display_name": "Python 3 (ipykernel)",
   "language": "python",
   "name": "python3"
  },
  "language_info": {
   "codemirror_mode": {
    "name": "ipython",
    "version": 3
   },
   "file_extension": ".py",
   "mimetype": "text/x-python",
   "name": "python",
   "nbconvert_exporter": "python",
   "pygments_lexer": "ipython3",
   "version": "3.11.2"
  }
 },
 "nbformat": 4,
 "nbformat_minor": 5
}
